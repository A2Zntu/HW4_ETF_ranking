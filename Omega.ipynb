{
 "cells": [
  {
   "cell_type": "code",
   "execution_count": 2,
   "metadata": {},
   "outputs": [],
   "source": [
    "from scipy import stats\n",
    "import math as m\n",
    "from sklearn.neighbors.kde import KernelDensity\n",
    "from sympy import *\n",
    "from scipy.stats.kde import gaussian_kde\n",
    "from scipy.stats import norm\n",
    "import numpy as np\n",
    "import pandas as pd \n",
    "from datetime import datetime as dt\n",
    "import os"
   ]
  },
  {
   "cell_type": "code",
   "execution_count": null,
   "metadata": {},
   "outputs": [],
   "source": [
    "Omega_week = pd.DataFrame()\n",
    "temp_etf = test_data['SPX_Return'].dropna()\n",
    "for i in range(156, len(temp_etf) + 1):\n",
    "    x_value = np.linspace(-0.5,0.5,1000)\n",
    "    etf_gqussian = gaussian_kde(temp_etf.iloc[i-156:i])\n",
    "    L = USG1M.loc[temp_etf.iloc[i-156:i].index[-1]]"
   ]
  },
  {
   "cell_type": "code",
   "execution_count": null,
   "metadata": {},
   "outputs": [],
   "source": [
    "Omega_week = pd.DataFrame()\n",
    "columns_name = []\n",
    "for k in range(etf_data_week_return.shape[1]):\n",
    "    print(k)\n",
    "    temp_etf=etf_data_week_return.iloc[:,k].dropna()\n",
    "    omega=[]\n",
    "    if len(temp_etf)>=156:\n",
    "        columns_name.append(etf_data_week_return.columns[k])\n",
    "    for i in range(156,len(temp_etf)+1):\n",
    "        probDensityFun = gaussian_kde(temp_etf.iloc[i-156:i]-1)\n",
    "        x=np.linspace(-0.5,0.5,10000)\n",
    "        L=USG3M.loc[temp_etf.iloc[i-156:i].index[-1]]\n",
    "        p=(probDensityFun(x)/probDensityFun(x).sum())\n",
    "        p=p.cumsum()\n",
    "        p=pd.DataFrame(p,index=x)\n",
    "        omega.append(((1-p).loc[L/100/52:].sum())/(p.loc[:L/100/52].sum()))\n",
    "    omega=pd.DataFrame(omega,index=temp_etf.index[155:])\n",
    "    omega_combine_week=pd.concat([omega_combine_week,omega],axis=1)\n",
    "omega_combine_week.columns=columns_name"
   ]
  }
 ],
 "metadata": {
  "kernelspec": {
   "display_name": "Python 3",
   "language": "python",
   "name": "python3"
  },
  "language_info": {
   "codemirror_mode": {
    "name": "ipython",
    "version": 3
   },
   "file_extension": ".py",
   "mimetype": "text/x-python",
   "name": "python",
   "nbconvert_exporter": "python",
   "pygments_lexer": "ipython3",
   "version": "3.6.5"
  }
 },
 "nbformat": 4,
 "nbformat_minor": 2
}
