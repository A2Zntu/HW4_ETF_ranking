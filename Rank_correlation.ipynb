{
 "cells": [
  {
   "cell_type": "code",
   "execution_count": 71,
   "metadata": {},
   "outputs": [],
   "source": [
    "from scipy import stats\n",
    "import numpy as np\n",
    "import pandas as pd \n",
    "import os"
   ]
  },
  {
   "cell_type": "code",
   "execution_count": 72,
   "metadata": {},
   "outputs": [],
   "source": [
    "def spearman(df_weekrank, df_monthrank, indicator):\n",
    "    \"\"\" \n",
    "    @param: indicator could only be \"Sharp-Omega\", \"ASKSR-Value\", \"Riskiness\" \n",
    "    @return: a rank correlation between the indicator in weekly order and monthly order \n",
    "    \"\"\"\n",
    "    week_rank = list(df_weekrank[indicator])\n",
    "    month_rank = list(df_monthrank[indicator])\n",
    "    \n",
    "    #check whether the rank is invalid\n",
    "    # this part is only for riskiness R\n",
    "    indexes = []\n",
    "    for i in range(len(week_rank)):\n",
    "        if(week_rank[i] == '-' or month_rank[i] == '-'):\n",
    "            indexes.append(i)\n",
    "    for pos in sorted(indexes, reverse=True):\n",
    "        del week_rank[pos]\n",
    "        del month_rank[pos]\n",
    "    \n",
    "    for i in range(len(month_rank)):\n",
    "        if isinstance(month_rank[i], str):\n",
    "            month_rank[i] = float(month_rank[i])\n",
    "        if isinstance(week_rank[i], str):\n",
    "            week_rank[i] = float(week_rank[i])\n",
    "\n",
    "    res = stats.spearmanr(week_rank, month_rank)\n",
    "    return res[0]"
   ]
  },
  {
   "cell_type": "code",
   "execution_count": 73,
   "metadata": {},
   "outputs": [],
   "source": [
    "def kendalltau(df_weekrank, df_monthrank, indicator):\n",
    "    \"\"\" \n",
    "    @param: indicator could only be \"Sharp-Omega\", \"ASKSR-Value\", \"Riskiness\" \n",
    "    @return: a rank correlation between the indicator in weekly order and monthly order \n",
    "    \"\"\"\n",
    "    week_rank = list(df_weekrank[indicator])\n",
    "    month_rank = list(df_monthrank[indicator])\n",
    "    \n",
    "    #check whether the rank is invalid\n",
    "    # this part is only for riskiness R\n",
    "    indexes = []\n",
    "    for i in range(len(week_rank)):\n",
    "        if(week_rank[i] == '-' or month_rank[i] == '-'):\n",
    "            indexes.append(i)\n",
    "    for pos in sorted(indexes, reverse=True):\n",
    "        del week_rank[pos]\n",
    "        del month_rank[pos]\n",
    "    \n",
    "    for i in range(len(month_rank)):\n",
    "        if isinstance(month_rank[i], str):\n",
    "            month_rank[i] = float(month_rank[i])\n",
    "        if isinstance(week_rank[i], str):\n",
    "            week_rank[i] = float(week_rank[i])\n",
    "\n",
    "    res = stats.kendalltau(week_rank, month_rank)\n",
    "    return res[0]"
   ]
  },
  {
   "cell_type": "code",
   "execution_count": 74,
   "metadata": {},
   "outputs": [],
   "source": [
    "if __name__ == '__main__':\n",
    "    work_dir = os.getcwd()\n",
    "    df_weekrank = pd.read_csv(os.path.join(work_dir, \"ranking\", \"weekly_ranking.csv\"), index_col = 0)\n",
    "    df_monthrank = pd.read_csv(os.path.join(work_dir, \"ranking\", \"monthly_ranking.csv\"), index_col = 0)"
   ]
  },
  {
   "cell_type": "code",
   "execution_count": 75,
   "metadata": {},
   "outputs": [
    {
     "data": {
      "text/plain": [
       "[0.5226600985221673, 0.3940886699507389]"
      ]
     },
     "execution_count": 75,
     "metadata": {},
     "output_type": "execute_result"
    }
   ],
   "source": [
    "res1 = spearman(df_weekrank, df_monthrank, \"Sharp-Omega\")\n",
    "res2 = kendalltau(df_weekrank, df_monthrank,  \"Sharp-Omega\")\n",
    "omega_res = [res1, res2]\n",
    "omega_res"
   ]
  },
  {
   "cell_type": "code",
   "execution_count": 76,
   "metadata": {},
   "outputs": [
    {
     "data": {
      "text/plain": [
       "[0.2448275862068965, 0.1625615763546798]"
      ]
     },
     "execution_count": 76,
     "metadata": {},
     "output_type": "execute_result"
    }
   ],
   "source": [
    "res1 = spearman(df_weekrank, df_monthrank, \"ASKSR-Value\")\n",
    "res2 = kendalltau(df_weekrank, df_monthrank,  \"ASKSR-Value\")\n",
    "asksr_res = [res1, res2]\n",
    "asksr_res"
   ]
  },
  {
   "cell_type": "code",
   "execution_count": 77,
   "metadata": {},
   "outputs": [
    {
     "data": {
      "text/plain": [
       "[0.1575091575091575, 0.11680911680911683]"
      ]
     },
     "execution_count": 77,
     "metadata": {},
     "output_type": "execute_result"
    }
   ],
   "source": [
    "res1 = spearman(df_weekrank, df_monthrank, \"Riskiness\")\n",
    "res2 = kendalltau(df_weekrank, df_monthrank,  \"Riskiness\")\n",
    "riskness_res = [res1, res2]\n",
    "riskness_res"
   ]
  }
 ],
 "metadata": {
  "kernelspec": {
   "display_name": "Python 3",
   "language": "python",
   "name": "python3"
  },
  "language_info": {
   "codemirror_mode": {
    "name": "ipython",
    "version": 3
   },
   "file_extension": ".py",
   "mimetype": "text/x-python",
   "name": "python",
   "nbconvert_exporter": "python",
   "pygments_lexer": "ipython3",
   "version": "3.6.5"
  }
 },
 "nbformat": 4,
 "nbformat_minor": 2
}
