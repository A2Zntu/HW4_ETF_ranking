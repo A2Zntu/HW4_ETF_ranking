{
 "cells": [
  {
   "cell_type": "code",
   "execution_count": 1,
   "metadata": {},
   "outputs": [],
   "source": [
    "from scipy import stats\n",
    "import numpy as np\n",
    "import pandas as pd \n",
    "import os"
   ]
  },
  {
   "cell_type": "code",
   "execution_count": 60,
   "metadata": {},
   "outputs": [],
   "source": [
    "def spearman(df_weekrank, df_monthrank, indicator):\n",
    "    \"\"\" \n",
    "    @param: indicator could only be \"Sharp-Omega\", \"ASKSR-Value\", \"Riskiness\" \n",
    "    @return: a rank correlation between the indicator in weekly order and monthly order \n",
    "    \"\"\"\n",
    "    week_rank = list(df_weekrank[indicator])\n",
    "    month_rank = list(df_monthrank[indicator])\n",
    "    \n",
    "    #check whether the rank is invalid\n",
    "    # this part is only for riskiness R\n",
    "    indexes = []\n",
    "    for i in range(len(week_rank)):\n",
    "        if(week_rank[i] == '-' or month_rank[i] == '-'):\n",
    "            indexes.append(i)\n",
    "    for pos in sorted(indexes, reverse=True):\n",
    "        del week_rank[pos]\n",
    "        del month_rank[pos]\n",
    "    \n",
    "    for i in range(len(month_rank)):\n",
    "        if isinstance(month_rank[i], str):\n",
    "            month_rank[i] = float(month_rank[i])\n",
    "        if isinstance(week_rank[i], str):\n",
    "            week_rank[i] = float(week_rank[i])\n",
    "\n",
    "    res = stats.spearmanr(week_rank, month_rank)\n",
    "    return res[0]"
   ]
  },
  {
   "cell_type": "code",
   "execution_count": 61,
   "metadata": {},
   "outputs": [],
   "source": [
    "def kendalltau(df_weekrank, df_monthrank, indicator):\n",
    "    \"\"\" \n",
    "    @param: indicator could only be \"Sharp-Omega\", \"ASKSR-Value\", \"Riskiness\" \n",
    "    @return: a rank correlation between the indicator in weekly order and monthly order \n",
    "    \"\"\"\n",
    "    week_rank = list(df_weekrank[indicator])\n",
    "    month_rank = list(df_monthrank[indicator])\n",
    "    \n",
    "    #check whether the rank is invalid\n",
    "    # this part is only for riskiness R\n",
    "    indexes = []\n",
    "    for i in range(len(week_rank)):\n",
    "        if(week_rank[i] == '-' or month_rank[i] == '-'):\n",
    "            indexes.append(i)\n",
    "    for pos in sorted(indexes, reverse=True):\n",
    "        del week_rank[pos]\n",
    "        del month_rank[pos]\n",
    "    \n",
    "    for i in range(len(month_rank)):\n",
    "        if isinstance(month_rank[i], str):\n",
    "            month_rank[i] = float(month_rank[i])\n",
    "        if isinstance(week_rank[i], str):\n",
    "            week_rank[i] = float(week_rank[i])\n",
    "\n",
    "    res = stats.kendalltau(week_rank, month_rank)\n",
    "    return res[0]"
   ]
  },
  {
   "cell_type": "code",
   "execution_count": 2,
   "metadata": {},
   "outputs": [],
   "source": [
    "if __name__ == '__main__':\n",
    "    work_dir = os.getcwd()\n",
    "    df_weekrank = pd.read_csv(os.path.join(work_dir, \"ranking\", \"weekly_ranking.csv\"), index_col = 0)\n",
    "    df_monthrank = pd.read_csv(os.path.join(work_dir, \"ranking\", \"monthly_ranking.csv\"), index_col = 0)"
   ]
  },
  {
   "cell_type": "code",
   "execution_count": 67,
   "metadata": {},
   "outputs": [
    {
     "data": {
      "text/plain": [
       "[0.5226600985221673, 0.3940886699507389]"
      ]
     },
     "execution_count": 67,
     "metadata": {},
     "output_type": "execute_result"
    }
   ],
   "source": [
    "res1 = spearman(df_weekrank, df_monthrank, \"Sharp-Omega\")\n",
    "res2 = kendalltau(df_weekrank, df_monthrank,  \"Sharp-Omega\")\n",
    "omega_res = [res1, res2]\n",
    "omega_res"
   ]
  },
  {
   "cell_type": "code",
   "execution_count": 68,
   "metadata": {},
   "outputs": [
    {
     "data": {
      "text/plain": [
       "[0.2448275862068965, 0.1625615763546798]"
      ]
     },
     "execution_count": 68,
     "metadata": {},
     "output_type": "execute_result"
    }
   ],
   "source": [
    "res1 = spearman(df_weekrank, df_monthrank, \"ASKSR-Value\")\n",
    "res2 = kendalltau(df_weekrank, df_monthrank,  \"ASKSR-Value\")\n",
    "asksr_res = [res1, res2]\n",
    "asksr_res"
   ]
  },
  {
   "cell_type": "code",
   "execution_count": 69,
   "metadata": {},
   "outputs": [
    {
     "data": {
      "text/plain": [
       "[0.3614035087719299, 0.28654970760233917]"
      ]
     },
     "execution_count": 69,
     "metadata": {},
     "output_type": "execute_result"
    }
   ],
   "source": [
    "res1 = spearman(df_weekrank, df_monthrank, \"Riskiness\")\n",
    "res2 = kendalltau(df_weekrank, df_monthrank,  \"Riskiness\")\n",
    "riskness_res = [res1, res2]\n",
    "riskness_res"
   ]
  },
  {
   "cell_type": "code",
   "execution_count": 13,
   "metadata": {},
   "outputs": [
    {
     "data": {
      "text/html": [
       "<div>\n",
       "<style scoped>\n",
       "    .dataframe tbody tr th:only-of-type {\n",
       "        vertical-align: middle;\n",
       "    }\n",
       "\n",
       "    .dataframe tbody tr th {\n",
       "        vertical-align: top;\n",
       "    }\n",
       "\n",
       "    .dataframe thead th {\n",
       "        text-align: right;\n",
       "    }\n",
       "</style>\n",
       "<table border=\"1\" class=\"dataframe\">\n",
       "  <thead>\n",
       "    <tr style=\"text-align: right;\">\n",
       "      <th></th>\n",
       "      <th>Sharp-Omega</th>\n",
       "      <th>S_Rank</th>\n",
       "      <th>ASKSR-Value</th>\n",
       "      <th>A_Rank</th>\n",
       "      <th>Riskiness</th>\n",
       "      <th>R_Rank</th>\n",
       "    </tr>\n",
       "    <tr>\n",
       "      <th>ETF</th>\n",
       "      <th></th>\n",
       "      <th></th>\n",
       "      <th></th>\n",
       "      <th></th>\n",
       "      <th></th>\n",
       "      <th></th>\n",
       "    </tr>\n",
       "  </thead>\n",
       "  <tbody>\n",
       "    <tr>\n",
       "      <th>FPA</th>\n",
       "      <td>0.908515</td>\n",
       "      <td>29</td>\n",
       "      <td>28.109025</td>\n",
       "      <td>25</td>\n",
       "      <td>-</td>\n",
       "      <td>-</td>\n",
       "    </tr>\n",
       "    <tr>\n",
       "      <th>FPXI</th>\n",
       "      <td>1.227656</td>\n",
       "      <td>3</td>\n",
       "      <td>24.747580</td>\n",
       "      <td>27</td>\n",
       "      <td>1.48E-06</td>\n",
       "      <td>1</td>\n",
       "    </tr>\n",
       "    <tr>\n",
       "      <th>IQDE</th>\n",
       "      <td>1.032982</td>\n",
       "      <td>23</td>\n",
       "      <td>39.858700</td>\n",
       "      <td>9</td>\n",
       "      <td>0.00796245</td>\n",
       "      <td>24</td>\n",
       "    </tr>\n",
       "    <tr>\n",
       "      <th>IQDY</th>\n",
       "      <td>1.107187</td>\n",
       "      <td>16</td>\n",
       "      <td>32.409769</td>\n",
       "      <td>20</td>\n",
       "      <td>0.000341761</td>\n",
       "      <td>13</td>\n",
       "    </tr>\n",
       "    <tr>\n",
       "      <th>CHIQ</th>\n",
       "      <td>1.157367</td>\n",
       "      <td>11</td>\n",
       "      <td>33.900151</td>\n",
       "      <td>17</td>\n",
       "      <td>0.00156666</td>\n",
       "      <td>19</td>\n",
       "    </tr>\n",
       "    <tr>\n",
       "      <th>GEM</th>\n",
       "      <td>1.195171</td>\n",
       "      <td>5</td>\n",
       "      <td>32.180977</td>\n",
       "      <td>21</td>\n",
       "      <td>0.000190356</td>\n",
       "      <td>8</td>\n",
       "    </tr>\n",
       "    <tr>\n",
       "      <th>ADRA</th>\n",
       "      <td>1.037718</td>\n",
       "      <td>22</td>\n",
       "      <td>36.837625</td>\n",
       "      <td>13</td>\n",
       "      <td>0.00367994</td>\n",
       "      <td>22</td>\n",
       "    </tr>\n",
       "    <tr>\n",
       "      <th>PAF</th>\n",
       "      <td>1.028545</td>\n",
       "      <td>24</td>\n",
       "      <td>28.694643</td>\n",
       "      <td>24</td>\n",
       "      <td>0.00217739</td>\n",
       "      <td>21</td>\n",
       "    </tr>\n",
       "    <tr>\n",
       "      <th>IEMG</th>\n",
       "      <td>1.202105</td>\n",
       "      <td>4</td>\n",
       "      <td>39.068032</td>\n",
       "      <td>10</td>\n",
       "      <td>0.000228369</td>\n",
       "      <td>10</td>\n",
       "    </tr>\n",
       "    <tr>\n",
       "      <th>HEEM</th>\n",
       "      <td>1.057868</td>\n",
       "      <td>21</td>\n",
       "      <td>33.123566</td>\n",
       "      <td>19</td>\n",
       "      <td>0.0140492</td>\n",
       "      <td>25</td>\n",
       "    </tr>\n",
       "    <tr>\n",
       "      <th>AXJV</th>\n",
       "      <td>0.949393</td>\n",
       "      <td>28</td>\n",
       "      <td>17.105529</td>\n",
       "      <td>29</td>\n",
       "      <td>0.546783</td>\n",
       "      <td>27</td>\n",
       "    </tr>\n",
       "    <tr>\n",
       "      <th>EMGF</th>\n",
       "      <td>1.171963</td>\n",
       "      <td>7</td>\n",
       "      <td>27.346017</td>\n",
       "      <td>26</td>\n",
       "      <td>0.000516204</td>\n",
       "      <td>16</td>\n",
       "    </tr>\n",
       "    <tr>\n",
       "      <th>ACWX</th>\n",
       "      <td>1.144497</td>\n",
       "      <td>13</td>\n",
       "      <td>37.630093</td>\n",
       "      <td>12</td>\n",
       "      <td>4.50E-05</td>\n",
       "      <td>6</td>\n",
       "    </tr>\n",
       "    <tr>\n",
       "      <th>AAXJ</th>\n",
       "      <td>1.167515</td>\n",
       "      <td>8</td>\n",
       "      <td>34.568410</td>\n",
       "      <td>16</td>\n",
       "      <td>0.000389331</td>\n",
       "      <td>14</td>\n",
       "    </tr>\n",
       "    <tr>\n",
       "      <th>EEMA</th>\n",
       "      <td>1.162804</td>\n",
       "      <td>10</td>\n",
       "      <td>35.800310</td>\n",
       "      <td>15</td>\n",
       "      <td>0.000572542</td>\n",
       "      <td>17</td>\n",
       "    </tr>\n",
       "    <tr>\n",
       "      <th>AIA</th>\n",
       "      <td>1.192318</td>\n",
       "      <td>6</td>\n",
       "      <td>33.418099</td>\n",
       "      <td>18</td>\n",
       "      <td>0.000244934</td>\n",
       "      <td>12</td>\n",
       "    </tr>\n",
       "    <tr>\n",
       "      <th>IPOS</th>\n",
       "      <td>1.091952</td>\n",
       "      <td>19</td>\n",
       "      <td>40.202791</td>\n",
       "      <td>7</td>\n",
       "      <td>0.000616928</td>\n",
       "      <td>18</td>\n",
       "    </tr>\n",
       "    <tr>\n",
       "      <th>CWI</th>\n",
       "      <td>1.142671</td>\n",
       "      <td>14</td>\n",
       "      <td>40.086302</td>\n",
       "      <td>8</td>\n",
       "      <td>4.21E-05</td>\n",
       "      <td>5</td>\n",
       "    </tr>\n",
       "    <tr>\n",
       "      <th>QEMM</th>\n",
       "      <td>1.167366</td>\n",
       "      <td>9</td>\n",
       "      <td>58.750491</td>\n",
       "      <td>2</td>\n",
       "      <td>0.000193937</td>\n",
       "      <td>9</td>\n",
       "    </tr>\n",
       "    <tr>\n",
       "      <th>MOTI</th>\n",
       "      <td>1.265989</td>\n",
       "      <td>2</td>\n",
       "      <td>68.514245</td>\n",
       "      <td>1</td>\n",
       "      <td>1.60E-06</td>\n",
       "      <td>2</td>\n",
       "    </tr>\n",
       "    <tr>\n",
       "      <th>REMX</th>\n",
       "      <td>1.013550</td>\n",
       "      <td>26</td>\n",
       "      <td>21.821421</td>\n",
       "      <td>28</td>\n",
       "      <td>-</td>\n",
       "      <td>-</td>\n",
       "    </tr>\n",
       "    <tr>\n",
       "      <th>VEU</th>\n",
       "      <td>1.145684</td>\n",
       "      <td>12</td>\n",
       "      <td>36.552345</td>\n",
       "      <td>14</td>\n",
       "      <td>4.12E-05</td>\n",
       "      <td>4</td>\n",
       "    </tr>\n",
       "    <tr>\n",
       "      <th>VXUS</th>\n",
       "      <td>1.140072</td>\n",
       "      <td>15</td>\n",
       "      <td>38.491234</td>\n",
       "      <td>11</td>\n",
       "      <td>5.50E-05</td>\n",
       "      <td>7</td>\n",
       "    </tr>\n",
       "    <tr>\n",
       "      <th>AXJL</th>\n",
       "      <td>1.016862</td>\n",
       "      <td>25</td>\n",
       "      <td>47.565744</td>\n",
       "      <td>4</td>\n",
       "      <td>0.0267384</td>\n",
       "      <td>26</td>\n",
       "    </tr>\n",
       "    <tr>\n",
       "      <th>EMCG</th>\n",
       "      <td>1.103721</td>\n",
       "      <td>17</td>\n",
       "      <td>31.547052</td>\n",
       "      <td>22</td>\n",
       "      <td>0.0060045</td>\n",
       "      <td>23</td>\n",
       "    </tr>\n",
       "    <tr>\n",
       "      <th>XSOE</th>\n",
       "      <td>1.327659</td>\n",
       "      <td>1</td>\n",
       "      <td>29.665116</td>\n",
       "      <td>23</td>\n",
       "      <td>2.23E-06</td>\n",
       "      <td>3</td>\n",
       "    </tr>\n",
       "    <tr>\n",
       "      <th>DNL</th>\n",
       "      <td>1.097952</td>\n",
       "      <td>18</td>\n",
       "      <td>57.132683</td>\n",
       "      <td>3</td>\n",
       "      <td>0.00164884</td>\n",
       "      <td>20</td>\n",
       "    </tr>\n",
       "    <tr>\n",
       "      <th>IHDG</th>\n",
       "      <td>1.083650</td>\n",
       "      <td>20</td>\n",
       "      <td>43.392313</td>\n",
       "      <td>6</td>\n",
       "      <td>0.00042334</td>\n",
       "      <td>15</td>\n",
       "    </tr>\n",
       "    <tr>\n",
       "      <th>DBAP</th>\n",
       "      <td>1.012345</td>\n",
       "      <td>27</td>\n",
       "      <td>45.078611</td>\n",
       "      <td>5</td>\n",
       "      <td>0.000240228</td>\n",
       "      <td>11</td>\n",
       "    </tr>\n",
       "  </tbody>\n",
       "</table>\n",
       "</div>"
      ],
      "text/plain": [
       "      Sharp-Omega  S_Rank  ASKSR-Value  A_Rank    Riskiness R_Rank\n",
       "ETF                                                               \n",
       "FPA      0.908515      29    28.109025      25            -      -\n",
       "FPXI     1.227656       3    24.747580      27     1.48E-06      1\n",
       "IQDE     1.032982      23    39.858700       9   0.00796245     24\n",
       "IQDY     1.107187      16    32.409769      20  0.000341761     13\n",
       "CHIQ     1.157367      11    33.900151      17   0.00156666     19\n",
       "GEM      1.195171       5    32.180977      21  0.000190356      8\n",
       "ADRA     1.037718      22    36.837625      13   0.00367994     22\n",
       "PAF      1.028545      24    28.694643      24   0.00217739     21\n",
       "IEMG     1.202105       4    39.068032      10  0.000228369     10\n",
       "HEEM     1.057868      21    33.123566      19    0.0140492     25\n",
       "AXJV     0.949393      28    17.105529      29     0.546783     27\n",
       "EMGF     1.171963       7    27.346017      26  0.000516204     16\n",
       "ACWX     1.144497      13    37.630093      12     4.50E-05      6\n",
       "AAXJ     1.167515       8    34.568410      16  0.000389331     14\n",
       "EEMA     1.162804      10    35.800310      15  0.000572542     17\n",
       "AIA      1.192318       6    33.418099      18  0.000244934     12\n",
       "IPOS     1.091952      19    40.202791       7  0.000616928     18\n",
       "CWI      1.142671      14    40.086302       8     4.21E-05      5\n",
       "QEMM     1.167366       9    58.750491       2  0.000193937      9\n",
       "MOTI     1.265989       2    68.514245       1     1.60E-06      2\n",
       "REMX     1.013550      26    21.821421      28            -      -\n",
       "VEU      1.145684      12    36.552345      14     4.12E-05      4\n",
       "VXUS     1.140072      15    38.491234      11     5.50E-05      7\n",
       "AXJL     1.016862      25    47.565744       4    0.0267384     26\n",
       "EMCG     1.103721      17    31.547052      22    0.0060045     23\n",
       "XSOE     1.327659       1    29.665116      23     2.23E-06      3\n",
       "DNL      1.097952      18    57.132683       3   0.00164884     20\n",
       "IHDG     1.083650      20    43.392313       6   0.00042334     15\n",
       "DBAP     1.012345      27    45.078611       5  0.000240228     11"
      ]
     },
     "execution_count": 13,
     "metadata": {},
     "output_type": "execute_result"
    }
   ],
   "source": [
    "df_weekrank"
   ]
  },
  {
   "cell_type": "code",
   "execution_count": null,
   "metadata": {},
   "outputs": [],
   "source": []
  },
  {
   "cell_type": "code",
   "execution_count": null,
   "metadata": {},
   "outputs": [],
   "source": []
  },
  {
   "cell_type": "markdown",
   "metadata": {},
   "source": [
    "# Test"
   ]
  },
  {
   "cell_type": "code",
   "execution_count": 23,
   "metadata": {},
   "outputs": [],
   "source": [
    "def spearman_cf(df):\n",
    "    \"\"\" \n",
    "    @param: df is either monthly data or weekly data \n",
    "    @return: a rank correlation between the indicators\n",
    "    \"\"\"\n",
    "    S_rank = list(df[\"S_Rank\"])\n",
    "    A_rank = list(df[\"A_Rank\"])\n",
    "    R_rank = list(df[\"R_Rank\"])\n",
    "    \n",
    "    #check whether the rank is invalid\n",
    "    # this part is only for riskiness R\n",
    "    indexes = []\n",
    "    for i in range(len(R_rank)):\n",
    "        if(R_rank[i] == '-'):\n",
    "            indexes.append(i)\n",
    "    for pos in sorted(indexes, reverse=True):\n",
    "        del S_rank[pos]\n",
    "        del A_rank[pos]\n",
    "        del R_rank[pos]\n",
    "    \n",
    "    for i in range(len(S_rank)):\n",
    "        if isinstance(S_rank[i], str):\n",
    "            S_rank[i] = float(S_rank[i])\n",
    "        if isinstance(A_rank[i], str):\n",
    "            A_rank[i] = float(A_rank[i])\n",
    "        if isinstance(R_rank[i], str):\n",
    "            R_rank[i] = float(R_rank[i])\n",
    "    \n",
    "    res1 = stats.spearmanr(S_rank, A_rank)\n",
    "    res2 = stats.spearmanr(S_rank, R_rank)\n",
    "    res3 = stats.spearmanr(R_rank, A_rank)\n",
    "    print(\"S/A\", res1[0])\n",
    "    print()\n",
    "    print(\"S/R\", res2[0])\n",
    "    print()\n",
    "    print(\"A/R\", res3[0])\n",
    "    return res1[0], res2[0], res3[0]\n"
   ]
  },
  {
   "cell_type": "code",
   "execution_count": 25,
   "metadata": {},
   "outputs": [],
   "source": [
    "def kendalltau_cf(df):\n",
    "    \"\"\" \n",
    "    @param: df is either monthly data or weekly data \n",
    "    @return: a rank correlation between the indicators\n",
    "    \"\"\"\n",
    "    S_rank = list(df[\"S_Rank\"])\n",
    "    A_rank = list(df[\"A_Rank\"])\n",
    "    R_rank = list(df[\"R_Rank\"])\n",
    "    \n",
    "    #check whether the rank is invalid\n",
    "    # this part is only for riskiness R\n",
    "    indexes = []\n",
    "    for i in range(len(R_rank)):\n",
    "        if(R_rank[i] == '-'):\n",
    "            indexes.append(i)\n",
    "    for pos in sorted(indexes, reverse=True):\n",
    "        del S_rank[pos]\n",
    "        del A_rank[pos]\n",
    "        del R_rank[pos]\n",
    "    \n",
    "    for i in range(len(S_rank)):\n",
    "        if isinstance(S_rank[i], str):\n",
    "            S_rank[i] = float(S_rank[i])\n",
    "        if isinstance(A_rank[i], str):\n",
    "            A_rank[i] = float(A_rank[i])\n",
    "        if isinstance(R_rank[i], str):\n",
    "            R_rank[i] = float(R_rank[i])\n",
    "    \n",
    "    res1 = stats.kendalltau(S_rank, A_rank)\n",
    "    res2 = stats.kendalltau(S_rank, R_rank)\n",
    "    res3 = stats.kendalltau(R_rank, A_rank)\n",
    "    print(\"S/A\", res1[0])\n",
    "    print()\n",
    "    print(\"S/R\", res2[0])\n",
    "    print()\n",
    "    print(\"A/R\", res3[0])\n",
    "    return res1[0], res2[0], res3[0]\n"
   ]
  },
  {
   "cell_type": "code",
   "execution_count": 24,
   "metadata": {},
   "outputs": [
    {
     "name": "stdout",
     "output_type": "stream",
     "text": [
      "S/A -0.152014652014652\n",
      "\n",
      "S/R 0.724053724053724\n",
      "\n",
      "A/R 0.10073260073260072\n"
     ]
    },
    {
     "data": {
      "text/plain": [
       "(-0.152014652014652, 0.724053724053724, 0.10073260073260072)"
      ]
     },
     "execution_count": 24,
     "metadata": {},
     "output_type": "execute_result"
    }
   ],
   "source": [
    "spearman_cf(df_weekrank)"
   ]
  },
  {
   "cell_type": "code",
   "execution_count": 26,
   "metadata": {},
   "outputs": [
    {
     "name": "stdout",
     "output_type": "stream",
     "text": [
      "S/A -0.14529914529914534\n",
      "\n",
      "S/R 0.5555555555555557\n",
      "\n",
      "A/R 0.059829059829059845\n"
     ]
    },
    {
     "data": {
      "text/plain": [
       "(-0.14529914529914534, 0.5555555555555557, 0.059829059829059845)"
      ]
     },
     "execution_count": 26,
     "metadata": {},
     "output_type": "execute_result"
    }
   ],
   "source": [
    "kendalltau_cf(df_weekrank)"
   ]
  },
  {
   "cell_type": "code",
   "execution_count": 27,
   "metadata": {},
   "outputs": [
    {
     "name": "stdout",
     "output_type": "stream",
     "text": [
      "S/A 0.24334975369458123\n",
      "\n",
      "S/R 0.6182266009852215\n",
      "\n",
      "A/R 0.6295566502463052\n"
     ]
    },
    {
     "data": {
      "text/plain": [
       "(0.24334975369458123, 0.6182266009852215, 0.6295566502463052)"
      ]
     },
     "execution_count": 27,
     "metadata": {},
     "output_type": "execute_result"
    }
   ],
   "source": [
    "spearman_cf(df_monthrank)"
   ]
  },
  {
   "cell_type": "code",
   "execution_count": 28,
   "metadata": {},
   "outputs": [
    {
     "name": "stdout",
     "output_type": "stream",
     "text": [
      "S/A 0.1379310344827586\n",
      "\n",
      "S/R 0.4532019704433497\n",
      "\n",
      "A/R 0.4482758620689654\n"
     ]
    },
    {
     "data": {
      "text/plain": [
       "(0.1379310344827586, 0.4532019704433497, 0.4482758620689654)"
      ]
     },
     "execution_count": 28,
     "metadata": {},
     "output_type": "execute_result"
    }
   ],
   "source": [
    "kendalltau_cf(df_monthrank)"
   ]
  },
  {
   "cell_type": "code",
   "execution_count": null,
   "metadata": {},
   "outputs": [],
   "source": []
  }
 ],
 "metadata": {
  "kernelspec": {
   "display_name": "Python 3",
   "language": "python",
   "name": "python3"
  },
  "language_info": {
   "codemirror_mode": {
    "name": "ipython",
    "version": 3
   },
   "file_extension": ".py",
   "mimetype": "text/x-python",
   "name": "python",
   "nbconvert_exporter": "python",
   "pygments_lexer": "ipython3",
   "version": "3.6.5"
  }
 },
 "nbformat": 4,
 "nbformat_minor": 2
}
